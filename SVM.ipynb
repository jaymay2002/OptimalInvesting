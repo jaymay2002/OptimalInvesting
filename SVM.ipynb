{
 "cells": [
  {
   "cell_type": "code",
   "execution_count": null,
   "metadata": {},
   "outputs": [],
   "source": [
    "%matplotlib inline\n",
    "%precision 16\n",
    "import numpy\n",
    "import matplotlib.pyplot as plt\n",
    "import pandas as pd\n",
    "# Provide complete installation or import information for external packages or modules here e.g.\n",
    "\n",
    "#pip install somepackage\n",
    "# from somepackage import blah\n",
    "\n",
    "\n",
    "#!pip install yahoo_fin\n",
    "\n",
    "import pandas as pd\n",
    "from yahoo_fin.stock_info import get_data\n",
    "import matplotlib.pyplot as plt\n",
    "import math\n",
    "import numpy as np\n",
    "from scipy.optimize import curve_fit\n",
    "import warnings\n",
    "warnings.filterwarnings(\"ignore\")\n",
    "\n",
    "#PAST DJIA\n",
    "custom_tickers = [\n",
    "    \"^DJI\",    # Dow Jones Industrial Average (DJI)\n",
    "    \"^GSPC\",   # S&P 500\n",
    "    \"^IXIC\",   # NASDAQ Composite\n",
    "    \"^FTSE\",   # FTSE 100\n",
    "    \"^RUT\",   # RUT\n",
    "    #\"^N225\",\n",
    "    #\"^RMCC\",\n",
    "    #\"^MID\"\n",
    "]\n",
    "\n",
    "\n",
    "# Fetch data for each ticker\n",
    "stock_data = {}\n",
    "for ticker in custom_tickers:\n",
    "    try:\n",
    "        data = get_data(ticker)\n",
    "        stock_data[ticker] = data\n",
    "    except AssertionError as e:\n",
    "        print(f\"No data found for {ticker}: {e}\")\n",
    "        \n",
    "sandp_time = stock_data[\"^IXIC\"]"
   ]
  }
 ],
 "metadata": {
  "language_info": {
   "name": "python"
  }
 },
 "nbformat": 4,
 "nbformat_minor": 2
}
